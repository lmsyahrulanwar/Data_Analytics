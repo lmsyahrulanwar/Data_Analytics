{
 "cells": [
  {
   "cell_type": "markdown",
   "id": "2720bdc2",
   "metadata": {},
   "source": [
    "# Import Library"
   ]
  },
  {
   "cell_type": "code",
   "execution_count": null,
   "id": "9e81177a",
   "metadata": {},
   "outputs": [
    {
     "name": "stdout",
     "output_type": "stream",
     "text": [
      "Requirement already satisfied: emoji in c:\\users\\tkwt.bda\\miniconda3\\lib\\site-packages (2.1.0)\n"
     ]
    }
   ],
   "source": [
    "import regex\n",
    "import pandas as pd\n",
    "import numpy as np\n",
    "!pip install emoji\n",
    "import emoji\n",
    "from collections import Counter\n",
    "import matplotlib.pyplot as plt\n",
    "from wordcloud import WordCloud, STOPWORDS, ImageColorGenerator\n",
    "from matplotlib.ticker import MaxNLocator\n",
    "from plotly import express as px\n",
    "import seaborn as sns\n",
    "from datetime import *\n",
    "import datetime as dt"
   ]
  },
  {
   "cell_type": "markdown",
   "id": "66f12c16",
   "metadata": {},
   "source": [
    "# Deteksi Token Tanggal dan Waktu"
   ]
  },
  {
   "cell_type": "code",
   "execution_count": null,
   "id": "09e8eb72",
   "metadata": {},
   "outputs": [],
   "source": [
    "def startsWithDate(s):\n",
    "    pattern = '^([0-9]+)(\\/)([0-9]+)(\\/)([0-9]+), ([0-9]+):([0-9]+)[ ]?(AM|PM|am|pm)? -'\n",
    "    result = regex.match(pattern, s)\n",
    "    if result:\n",
    "        return True\n",
    "    return False"
   ]
  },
  {
   "cell_type": "markdown",
   "id": "8a93713d",
   "metadata": {},
   "source": [
    "# Deteksi Token Pengirim"
   ]
  },
  {
   "cell_type": "code",
   "execution_count": null,
   "id": "6f58abb2",
   "metadata": {},
   "outputs": [],
   "source": [
    "def startsWithAuthor(s):\n",
    "    patterns = [\n",
    "        '([\\w]+):',                        # First Name\n",
    "        '([\\w]+[\\s]+[\\w]+):',              # First Name + Last Name\n",
    "        '([\\w]+[\\s]+[\\w]+[\\s]+[\\w]+):',    # First Name + Middle Name + Last Name\n",
    "    ]\n",
    "    pattern = '^' + '|'.join(patterns)\n",
    "    result = regex.match(pattern, s)\n",
    "    if result:\n",
    "        return True\n",
    "    return False"
   ]
  },
  {
   "cell_type": "markdown",
   "id": "6ff9b45b",
   "metadata": {},
   "source": [
    "# Extracting dan Combining Token"
   ]
  },
  {
   "cell_type": "code",
   "execution_count": null,
   "id": "c7930939",
   "metadata": {},
   "outputs": [],
   "source": [
    "def getDatapoint(line):\n",
    "    splitline = line.split(' - ')\n",
    "    dateTime = splitline[0]\n",
    "    date, time = dateTime.split(\", \")\n",
    "    message = \" \".join(splitline[1:])\n",
    "    if startsWithAuthor(message):\n",
    "        splitmessage = message.split(\": \")\n",
    "        author = splitmessage[0]\n",
    "        message = \" \".join(splitmessage[1:])\n",
    "    else:\n",
    "        author= None\n",
    "    return date, time, author, message"
   ]
  },
  {
   "cell_type": "markdown",
   "id": "f73ff873",
   "metadata": {},
   "source": [
    "# Parsing Line dan Multi-Line Messages"
   ]
  },
  {
   "cell_type": "code",
   "execution_count": null,
   "id": "4d1e83ee",
   "metadata": {},
   "outputs": [],
   "source": [
    "data = []\n",
    "conversation = './Datasets/WhatsApp Chat Datasets.txt'\n",
    "with open(conversation, encoding=\"utf-8\") as fp:\n",
    "    fp.readline()\n",
    "    messageBuffer = []\n",
    "    date, time, author = None, None, None\n",
    "    while True:\n",
    "        line = fp.readline()\n",
    "        if not line:\n",
    "            break\n",
    "        line = line.strip()\n",
    "        if startsWithDate(line):\n",
    "            if len(messageBuffer) > 0:\n",
    "                data.append([date, time, author, ' '.join(messageBuffer)])\n",
    "            messageBuffer.clear()\n",
    "            date, time, author, message = getDatapoint(line)\n",
    "            messageBuffer.append(message)\n",
    "        else:\n",
    "            messageBuffer.append(line)"
   ]
  },
  {
   "cell_type": "markdown",
   "id": "ed863252",
   "metadata": {},
   "source": [
    "# Buat DataFrame"
   ]
  },
  {
   "cell_type": "code",
   "execution_count": null,
   "id": "d0911d10",
   "metadata": {},
   "outputs": [],
   "source": [
    "df = pd.DataFrame(data, columns=[\"Date\", 'Time', 'Author', 'Message'])\n",
    "df['Date'] = pd.to_datetime(df['Date'])"
   ]
  },
  {
   "cell_type": "code",
   "execution_count": null,
   "id": "7791fca2",
   "metadata": {},
   "outputs": [],
   "source": [
    "df"
   ]
  },
  {
   "cell_type": "code",
   "execution_count": null,
   "id": "1d11154f",
   "metadata": {},
   "outputs": [],
   "source": [
    "df.tail(20)"
   ]
  },
  {
   "cell_type": "code",
   "execution_count": null,
   "id": "4adb61a6",
   "metadata": {},
   "outputs": [],
   "source": [
    "df.info()"
   ]
  },
  {
   "cell_type": "code",
   "execution_count": null,
   "id": "3a3b914c",
   "metadata": {},
   "outputs": [],
   "source": [
    "#----- Authors in the chat\n",
    "df.Author.unique()"
   ]
  },
  {
   "cell_type": "code",
   "execution_count": null,
   "id": "bd1bd230",
   "metadata": {},
   "outputs": [],
   "source": [
    "#------ Displaying total number of messeges in the chat\n",
    "total_messages = df.shape[0]\n",
    "print(total_messages)"
   ]
  },
  {
   "cell_type": "code",
   "execution_count": null,
   "id": "508d83a6",
   "metadata": {},
   "outputs": [],
   "source": [
    "#----- Displaying omitted media while exporting\n",
    "media_messages = df[df[\"Message\"]=='<Media omitted>'].shape[0]\n",
    "print(media_messages)"
   ]
  },
  {
   "cell_type": "markdown",
   "id": "e5f1e052",
   "metadata": {},
   "source": [
    "# __*Exploratory Data Analysis*__"
   ]
  },
  {
   "cell_type": "code",
   "execution_count": null,
   "id": "c88b67bc",
   "metadata": {},
   "outputs": [],
   "source": [
    "### ----------- Checking shape of dataset.\n",
    "df.shape\n",
    "\n",
    "### ---------- Checking basic information of dataset\n",
    "df.info()\n",
    "\n",
    "### ----------  Checking no. of null values in dataset\n",
    "df.isnull().sum()\n",
    "\n",
    "### ---------- Checking head part of dataset\n",
    "df.head(20)\n",
    "\n",
    "### -------- Checking tail part of dataset\n",
    "df.tail(20)\n",
    "\n",
    "### -------- Droping Nan values from dataset\n",
    "df = df.dropna()\n",
    "df = df.reset_index(drop=True)\n",
    "df.shape\n",
    "\n",
    "### --------- Checking no. of authors of group\n",
    "df['Author'].nunique()\n",
    "\n",
    "### --------- Checking authors of group\n",
    "df['Author'].unique()"
   ]
  },
  {
   "cell_type": "code",
   "execution_count": null,
   "id": "89b08eef",
   "metadata": {},
   "outputs": [],
   "source": [
    "###--------  Adding one more column of \"Day\" for better analysis, here we use datetime library which help us to do this task easily.\n",
    "weeks = {\n",
    "0 : 'Monday',\n",
    "1 : 'Tuesday',\n",
    "2 : 'Wednesday',\n",
    "3 : 'Thrusday',\n",
    "4 : 'Friday',\n",
    "5 : 'Saturday',\n",
    "6 : 'Sunday'\n",
    "}\n",
    "df['Day'] = df['Date'].dt.weekday.map(weeks)\n",
    "\n",
    "### ----------- Rearranging the columns for better understanding\n",
    "df = df[['Date','Day','Time','Author','Message']]\n",
    "\n",
    "### ----------- Changing the datatype of column \"Day\".\n",
    "df['Day'] = df['Day'].astype('category')\n",
    "\n",
    "### ---------- Looking newborn dataset.\n",
    "df.head()\n",
    "\n",
    "### ---------- Counting number of letters in each message\n",
    "df['Letter'] = df['Message'].apply(lambda s : len(s))\n",
    "\n",
    "### ---------- Counting number of word's in each message\n",
    "df['Word'] = df['Message'].apply(lambda s : len(s.split(' ')))\n",
    "\n",
    "### ---------- Function to count number of links in dataset, it will add extra column and store information in it.\n",
    "URLPATTERN = r'(https?://\\S+)'\n",
    "df['urlcount'] = df.Message.apply(lambda x: regex.findall(URLPATTERN, x)).str.len()\n",
    "links = np.sum(df.urlcount)\n",
    "\n",
    "###--------- Function to count number of media in chat.\n",
    "MEDIAPATTERN = r'<Media omitted>'\n",
    "df['Media_Count'] = df.Message.apply(lambda x : regex.findall(MEDIAPATTERN, x)).str.len()\n",
    "media = np.sum(df.Media_Count)\n",
    "\n",
    "###------- Looking into updated dataset\n",
    "df"
   ]
  },
  {
   "cell_type": "code",
   "execution_count": null,
   "id": "81ae7f43",
   "metadata": {},
   "outputs": [],
   "source": [
    "total_messages = df.shape[0]\n",
    "media_messages = df[df['Message'] == '<Media omitted>'].shape[0]\n",
    "links = np.sum(df.urlcount)\n",
    "print('Personal Chat Stats : ')\n",
    "print('Total Number of Messages : {}'.format(total_messages))\n",
    "print('Total Number of Media Messages : {}'.format(media_messages))\n",
    "print('Total Number of Links : {}'.format(links))"
   ]
  },
  {
   "cell_type": "code",
   "execution_count": null,
   "id": "958e8e47",
   "metadata": {},
   "outputs": [],
   "source": [
    "l = df.Author.unique()\n",
    "for i in range(len(l)):\n",
    "  ### -------Filtering out messages of particular user\n",
    "  req_df = df[df[\"Author\"] == l[i]]\n",
    "\n",
    "  ### -------- req_df will contain messages of only one particular user\n",
    "  print(f'--> Stats of {l[i]} <-- ')\n",
    "\n",
    "  ### -------- shape will print number of rows which indirectly means the number of messages\n",
    "  print('Total Message Sent : ', req_df.shape[0])\n",
    "\n",
    "  ### -------- Word_Count contains of total words in one message. Sum of all words/ Total Messages will yield words per message\n",
    "  words_per_message = (np.sum(req_df['Word']))/req_df.shape[0]\n",
    "  w_p_m = (\"%.3f\" % round(words_per_message, 2))  \n",
    "  print('Average Words per Message : ', w_p_m)\n",
    "\n",
    "  ### -------- media conists of media messages\n",
    "  media = sum(req_df[\"Media_Count\"])\n",
    "  print('Total Media Message Sent : ', media)\n",
    "\n",
    "  ### ------- links consist of total links\n",
    "  links = sum(req_df[\"urlcount\"])   \n",
    "  print('Total Links Sent : ', links)   \n",
    "  print()\n",
    "  print('----------------------------------------------------------n')"
   ]
  },
  {
   "cell_type": "code",
   "execution_count": null,
   "id": "7facf306",
   "metadata": {},
   "outputs": [],
   "source": [
    "# def split_count(text):\n",
    "#     emoji_list = []\n",
    "#     data = regex.findall(r'\\X',text)\n",
    "#     for word in data:\n",
    "#         if any(char in emoji.UNICODE_EMOJI for char in word):\n",
    "#             emoji_list.append(word)\n",
    "#     return emoji_list\n",
    "# df['emoji'] = df[\"Message\"].apply(split_count)\n",
    "\n",
    "# emojis = sum(df['emoji'].str.len())\n",
    "# print(emojis)"
   ]
  },
  {
   "cell_type": "code",
   "execution_count": null,
   "id": "55c43c46",
   "metadata": {},
   "outputs": [],
   "source": [
    "#df.emoji"
   ]
  },
  {
   "cell_type": "markdown",
   "id": "18af3a33",
   "metadata": {},
   "source": [
    "# NLP Model"
   ]
  },
  {
   "cell_type": "code",
   "execution_count": null,
   "id": "28398d3b",
   "metadata": {},
   "outputs": [],
   "source": [
    "### ------ Word Cloud of mostly used word in our Group\n",
    "text = \" \".join(review for review in df.Message)\n",
    "wordcloud = WordCloud(stopwords=STOPWORDS, background_color=\"white\").generate(text)\n",
    "\n",
    "### ------ Display the generated image:\n",
    "plt.figure( figsize=(10,5))\n",
    "plt.imshow(wordcloud, interpolation='bilinear')\n",
    "plt.axis(\"off\")\n",
    "plt.show()"
   ]
  },
  {
   "cell_type": "code",
   "execution_count": null,
   "id": "700a8470",
   "metadata": {},
   "outputs": [],
   "source": [
    "###------ Creates a list of unique Authors\n",
    "l = df.Author.unique()\n",
    "\n",
    "for i in range(len(l)):\n",
    "  ###------ Filtering out messages of particular user\n",
    "  req_df = df[df[\"Author\"] == l[i]]\n",
    "\n",
    "  ###------ req_df will contain messages of only one particular user\n",
    "  print(l[i],'  ->  ',req_df.shape[0])"
   ]
  },
  {
   "cell_type": "code",
   "execution_count": null,
   "id": "b09566c8",
   "metadata": {},
   "outputs": [],
   "source": [
    "l = df.Day.unique()\n",
    "for i in range(len(l)):\n",
    "  ### ------ Filtering out messages of particular user\n",
    "  req_df = df[df[\"Day\"] == l[i]]\n",
    "\n",
    "  ###------- req_df will contain messages of only one particular user\n",
    "  print(l[i],'  ->  ',req_df.shape[0])"
   ]
  },
  {
   "cell_type": "markdown",
   "id": "460d1ce1",
   "metadata": {},
   "source": [
    "# Visualizing"
   ]
  },
  {
   "cell_type": "code",
   "execution_count": null,
   "id": "db2e847a",
   "metadata": {},
   "outputs": [],
   "source": [
    "### ------ Most Active Author in the chat\n",
    "plt.figure(figsize=(9,6))\n",
    "author_value_counts = df['Author'].value_counts() #--- Number of messages per author\n",
    "most_active = author_value_counts.head(10) #--- Number of messages per author for the  most active author\n",
    "most_active.plot.barh() #--- Plot a bar chart using pandas built-in plotting apis\n",
    "\n",
    "plt.xlabel('No. of messages',fontdict={'fontsize': 14,'fontweight': 10})\n",
    "plt.ylabel('Authors',fontdict={'fontsize': 14,'fontweight': 10})\n",
    "plt.title('Mostly active member of chat',fontdict={'fontsize': 20,'fontweight': 8})\n",
    "plt.show()"
   ]
  },
  {
   "cell_type": "code",
   "execution_count": null,
   "id": "c6598205",
   "metadata": {},
   "outputs": [],
   "source": [
    "### ------ Mostly Active day in the chat\n",
    "plt.figure(figsize=(8,5))\n",
    "active_day = df['Day'].value_counts()\n",
    "\n",
    "### ------ Most active author in the chat is : \n",
    "a_d = active_day.head(10)\n",
    "a_d.plot.bar()\n",
    "plt.xlabel('Day',fontdict={'fontsize': 12,'fontweight': 10})\n",
    "plt.ylabel('No. of messages',fontdict={'fontsize': 12,'fontweight': 10})\n",
    "plt.title('Mostly active day of chat in a Week',fontdict={'fontsize': 18,'fontweight': 8})\n",
    "plt.show()"
   ]
  },
  {
   "cell_type": "code",
   "execution_count": null,
   "id": "7f72c666",
   "metadata": {},
   "outputs": [],
   "source": [
    "###------  Time whenever the chat is highly active\n",
    "plt.figure(figsize=(8,5))\n",
    "t = df['Time'].value_counts().head(20)\n",
    "tx = t.plot.bar()\n",
    "tx.yaxis.set_major_locator(MaxNLocator(integer=True))  #----- Converting y axis data to integer\n",
    "plt.xlabel('Time',fontdict={'fontsize': 12,'fontweight': 10})\n",
    "plt.ylabel('No. of messages',fontdict={'fontsize': 12,'fontweight': 10})\n",
    "plt.title('Analysis of time when chat was highly active.',fontdict={'fontsize': 18,'fontweight': 8})\n",
    "plt.show()"
   ]
  },
  {
   "cell_type": "code",
   "execution_count": null,
   "id": "07602f78",
   "metadata": {},
   "outputs": [],
   "source": [
    "###---- Date on which the chat highly active.\n",
    "plt.figure(figsize=(8,5))\n",
    "df['Date'].value_counts().head(15).plot.bar()\n",
    "plt.xlabel('Date',fontdict={'fontsize': 14,'fontweight': 10})\n",
    "plt.ylabel('No. of messages',fontdict={'fontsize': 14,'fontweight': 10})\n",
    "plt.title('Analysis of Date on which chat was highly active',fontdict={'fontsize': 18,'fontweight': 8})\n",
    "plt.show()"
   ]
  },
  {
   "cell_type": "code",
   "execution_count": null,
   "id": "b842f496",
   "metadata": {},
   "outputs": [],
   "source": []
  }
 ],
 "metadata": {
  "kernelspec": {
   "display_name": "tfTrain",
   "language": "python",
   "name": "tftrain"
  },
  "language_info": {
   "codemirror_mode": {
    "name": "ipython",
    "version": 3
   },
   "file_extension": ".py",
   "mimetype": "text/x-python",
   "name": "python",
   "nbconvert_exporter": "python",
   "pygments_lexer": "ipython3",
   "version": "3.9.5"
  }
 },
 "nbformat": 4,
 "nbformat_minor": 5
}
